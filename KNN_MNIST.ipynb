{
  "nbformat": 4,
  "nbformat_minor": 0,
  "metadata": {
    "colab": {
      "provenance": [],
      "authorship_tag": "ABX9TyP+qEoUO4Pk7a1wg9UnLsl+",
      "include_colab_link": true
    },
    "kernelspec": {
      "name": "python3",
      "display_name": "Python 3"
    },
    "language_info": {
      "name": "python"
    }
  },
  "cells": [
    {
      "cell_type": "markdown",
      "metadata": {
        "id": "view-in-github",
        "colab_type": "text"
      },
      "source": [
        "<a href=\"https://colab.research.google.com/github/SCORPXXX/AI/blob/main/KNN_MNIST.ipynb\" target=\"_parent\"><img src=\"https://colab.research.google.com/assets/colab-badge.svg\" alt=\"Open In Colab\"/></a>"
      ]
    },
    {
      "cell_type": "code",
      "execution_count": null,
      "metadata": {
        "colab": {
          "base_uri": "https://localhost:8080/"
        },
        "id": "smUksjfTA74T",
        "outputId": "ae2fc20d-b9ec-49b0-a0c8-b1dfd7a15b1b"
      },
      "outputs": [
        {
          "output_type": "stream",
          "name": "stdout",
          "text": [
            "{'algorithm': 'auto', 'n_neighbors': 1, 'weights': 'uniform'}\n",
            "Accuracy: 0.9888888888888889\n"
          ]
        }
      ],
      "source": [
        "import sklearn\n",
        "from sklearn import datasets\n",
        "from sklearn.neighbors import KNeighborsClassifier\n",
        "from sklearn.metrics import accuracy_score\n",
        "from sklearn.pipeline import Pipeline\n",
        "from sklearn.model_selection import train_test_split\n",
        "from sklearn.model_selection import GridSearchCV\n",
        "\n",
        "digits = datasets.load_digits()\n",
        "X_train,x_test,y_train,y_test= train_test_split(digits.data,digits.target,test_size=0.2)\n",
        "knn = KNeighborsClassifier(n_neighbors=3)\n",
        "\n",
        "parameters=[{'n_neighbors':[1,2,3,4,5,6,7,8,9,10],'weights' : ['uniform','distance'],'algorithm':['auto', 'ball_tree', 'kd_tree','brute'] }]\n",
        "grid=GridSearchCV(knn,parameters,scoring='accuracy')\n",
        "knn_updated=grid.fit(X_train,y_train)\n",
        "\n",
        "print(knn_updated.best_params_)\n",
        "\n",
        "knn_updated.fit(X_train,y_train)\n",
        "prediction = knn_updated.predict(x_test)\n",
        "\n",
        "print(f\"Accuracy: {accuracy_score(y_test,prediction)}\")"
      ]
    }
  ]
}